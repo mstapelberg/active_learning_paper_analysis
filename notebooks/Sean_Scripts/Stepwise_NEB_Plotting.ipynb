{
 "cells": [
  {
   "cell_type": "markdown",
   "metadata": {},
   "source": [
    "# Stepwise NEB Plotting"
   ]
  },
  {
   "cell_type": "code",
   "execution_count": null,
   "metadata": {},
   "outputs": [],
   "source": [
    "with open(\"NEB_stepwise_energies.dat\") as f:\n",
    "    lines = f.readlines()\n",
    "    \n",
    "# formatted in lists of lists\n",
    "stepwise_energies = []\n",
    "current_step_energies = []\n",
    "\n",
    "for i, line in enumerate(lines):\n",
    "    if len(line) < 5 and i > 0: # iteration number\n",
    "        stepwise_energies += [current_step_energies]\n",
    "        current_step_energies = []\n",
    "    elif len(line) > 5:\n",
    "        current_step_energies += [float(line)]"
   ]
  },
  {
   "cell_type": "code",
   "execution_count": null,
   "metadata": {},
   "outputs": [],
   "source": [
    "import os\n",
    "import numpy as np\n",
    "import matplotlib.pyplot as plt\n",
    "\n",
    "delQ = 18.9  # total delta Q for x axis\n",
    "num = len(stepwise_energies[0])\n",
    "\n",
    "# energies of endpoints:\n",
    "left_endpoint_energy = -214.45423254\n",
    "right_endpoint_energy = -214.32627557\n",
    "q = np.linspace(0, 1, num=num+2) * delQ   # images + 2 endpoints\n",
    "\n",
    "os.makedirs(\"Stepwise_NEB_Plots/\", exist_ok=True)\n",
    "for i,step in enumerate(stepwise_energies):\n",
    "    neb_energies = np.array([left_endpoint_energy] + step + [right_endpoint_energy])\n",
    "    f,ax = plt.subplots()\n",
    "    ax.plot(q, neb_energies - neb_energies.min(), marker=\"o\")\n",
    "    \n",
    "    ## Interpolating:  (uncomment to add interpolation to plot)\n",
    "    #Q = np.linspace(q.min(), q.max(), num=1000)\n",
    "    #tck = interpolate.splrep(q, neb_energies - neb_energies.min(), k=3, s=1e-6)\n",
    "    #interpolated = interpolate.splev(Q, tck, der=0)\n",
    "    #plt.plot(Q, interpolated, c=\"C3\", alpha=0.5)\n",
    "    \n",
    "    ax.set_ylabel(\"Energy (eV)\")\n",
    "    ax.set_xlabel(r\"$\\Delta Q$ (amu$^{1/2}\\ \\AA$)\")\n",
    "    \n",
    "    # Labels:\n",
    "    ax.axvline(0, label=r\"Te$_i^{0}$ Dimer (Twisted, $C_{2}$)\", linestyle='dashed', c=\"C1\")\n",
    "    ax.axvline(delQ, label=r\"Te$_i^{0}$ $C_{2v}$\", linestyle='dashed', c=\"C2\")\n",
    "    #plt.text(1, 0.01, r\"Te$_i^{+1}$\"+\"\\nDimer\")\n",
    "    ax.legend()\n",
    "    \n",
    "    ax.set_ylim(-0.002, 0.16)\n",
    "    f.savefig(f\"Stepwise_NEB_Plots/Step{i}_NEB_plot.png\", bbox_inches='tight', dpi=400)\n",
    "    plt.close(f);"
   ]
  }
 ],
 "metadata": {
  "language_info": {
   "name": "python"
  }
 },
 "nbformat": 4,
 "nbformat_minor": 2
}
